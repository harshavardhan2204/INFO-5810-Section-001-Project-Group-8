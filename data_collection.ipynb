{
  "nbformat": 4,
  "nbformat_minor": 0,
  "metadata": {
    "colab": {
      "provenance": []
    },
    "kernelspec": {
      "name": "python3",
      "display_name": "Python 3"
    },
    "language_info": {
      "name": "python"
    }
  },
  "cells": [
    {
      "cell_type": "code",
      "execution_count": 1,
      "metadata": {
        "colab": {
          "base_uri": "https://localhost:8080/"
        },
        "id": "MHTham_J7Vnf",
        "outputId": "4de536eb-049f-4c27-c9ff-8bedf531721e"
      },
      "outputs": [
        {
          "output_type": "stream",
          "name": "stdout",
          "text": [
            "Looking in indexes: https://pypi.org/simple, https://us-python.pkg.dev/colab-wheels/public/simple/\n",
            "Requirement already satisfied: tweepy in /usr/local/lib/python3.7/dist-packages (3.10.0)\n",
            "Requirement already satisfied: requests-oauthlib>=0.7.0 in /usr/local/lib/python3.7/dist-packages (from tweepy) (1.3.1)\n",
            "Requirement already satisfied: six>=1.10.0 in /usr/local/lib/python3.7/dist-packages (from tweepy) (1.15.0)\n",
            "Requirement already satisfied: requests[socks]>=2.11.1 in /usr/local/lib/python3.7/dist-packages (from tweepy) (2.23.0)\n",
            "Requirement already satisfied: oauthlib>=3.0.0 in /usr/local/lib/python3.7/dist-packages (from requests-oauthlib>=0.7.0->tweepy) (3.2.2)\n",
            "Requirement already satisfied: certifi>=2017.4.17 in /usr/local/lib/python3.7/dist-packages (from requests[socks]>=2.11.1->tweepy) (2022.9.24)\n",
            "Requirement already satisfied: chardet<4,>=3.0.2 in /usr/local/lib/python3.7/dist-packages (from requests[socks]>=2.11.1->tweepy) (3.0.4)\n",
            "Requirement already satisfied: urllib3!=1.25.0,!=1.25.1,<1.26,>=1.21.1 in /usr/local/lib/python3.7/dist-packages (from requests[socks]>=2.11.1->tweepy) (1.24.3)\n",
            "Requirement already satisfied: idna<3,>=2.5 in /usr/local/lib/python3.7/dist-packages (from requests[socks]>=2.11.1->tweepy) (2.10)\n",
            "Requirement already satisfied: PySocks!=1.5.7,>=1.5.6 in /usr/local/lib/python3.7/dist-packages (from requests[socks]>=2.11.1->tweepy) (1.7.1)\n"
          ]
        }
      ],
      "source": [
        "pip install tweepy"
      ]
    },
    {
      "cell_type": "code",
      "source": [
        "# Imports the needed libraries\n",
        "# You may need to install tweepy\n",
        "import tweepy\n",
        "import pandas as pd\n",
        "import time\n",
        "consumer_key = 'hk8jsV6WPXsMnXi4mwzroh8le'\n",
        "consumer_secret = 'tu46EM1pNyTP0V0Lu8N26zyzZVeXE1Vh158r0jnHJ3HWATPxi0'\n",
        "access_token = '1540784036074889217-whwAj71uCzpGVrMGDjxS0QSt7aI1xa'\n",
        "access_token_secret = '4kpZBat8zqXUXZcSRWGlm5OeiSKAeXxrbaSwvZ3vwIUvn'\n",
        "auth = tweepy.OAuthHandler(consumer_key, consumer_secret)\n",
        "auth.set_access_token(access_token, access_token_secret)\n",
        "api = tweepy.API(auth,wait_on_rate_limit=True)"
      ],
      "metadata": {
        "id": "2DttWIhp7cr_"
      },
      "execution_count": 2,
      "outputs": []
    },
    {
      "cell_type": "code",
      "source": [
        "#for particular geo location\n",
        "places = api.geo_search(query=\"United States\", granularity=\"country\")\n",
        "place_id = places[0].id"
      ],
      "metadata": {
        "id": "5oumnikj7lX_"
      },
      "execution_count": 10,
      "outputs": []
    },
    {
      "cell_type": "code",
      "source": [
        "#keywords- Unitedstates,#USA,#mentalhealth,#wellbeing,#depressed,#Covid19,#recession,#layoffs etc.\n",
        "search_words = \"#USA\""
      ],
      "metadata": {
        "id": "sr2p632J7pv-"
      },
      "execution_count": 9,
      "outputs": []
    },
    {
      "cell_type": "code",
      "source": [
        "created_at = []\n",
        "text = []"
      ],
      "metadata": {
        "id": "9r55vJhQ7uWv"
      },
      "execution_count": 5,
      "outputs": []
    },
    {
      "cell_type": "markdown",
      "source": [
        "Enter number of tweets you want to pull in items()"
      ],
      "metadata": {
        "id": "mU89c9U38Bcu"
      }
    },
    {
      "cell_type": "code",
      "source": [
        "for tweet in tweepy.Cursor(api.search,q= search_words,count=100,\n",
        "                           lang=\"en\",\n",
        "                           since=\"2017-04-03\").items(10):\n",
        "    print (tweet.created_at, tweet.text)\n",
        "    created_at.append(tweet.created_at)\n",
        "    text.append(tweet.text)"
      ],
      "metadata": {
        "colab": {
          "base_uri": "https://localhost:8080/"
        },
        "id": "qTjRC9pa7yKz",
        "outputId": "53c31127-08e6-45cc-e7c6-95b8a1eb5c5e"
      },
      "execution_count": 6,
      "outputs": [
        {
          "output_type": "stream",
          "name": "stdout",
          "text": [
            "2022-11-27 21:12:42 RT @DiagolonMonkey: Interesting case has made it 2 the #USA #SupremeCourt that’s of interest. I don’t see anything as a #gamechanger these…\n",
            "2022-11-27 21:12:29 @IvankaTrump Nothing says American patriotism — the core of the #MAGA movement — like the former US president’s dau… https://t.co/lmFYPNlZYZ\n",
            "2022-11-27 21:12:27 RT @theEverEarn: 💥#USA vs England was a draw, but #Everearn pays 11% #USDC💥11% #BUSD on your crypto💥\n",
            "\n",
            "🚀#Everearn $EARN #BNB💥#ETH🚀\n",
            "\n",
            "https://…\n",
            "2022-11-27 21:12:21 RT @Heatherknows2: @reddogsusie #Tennessee #USA MOONLIGHT is ONLY 2.6 yo. A sensitive &amp; quiet beautiful girl &amp; she's Heartbroken &amp; scared 💔…\n",
            "2022-11-27 21:12:09 RT @UsColour: Joni Mitchell Classic T-Shirt\n",
            "❤❤ designs❤❤\n",
            "👕👔👚🥼👖👗. You can visit the following links and see our designs.....on the REDBUBBLE…\n",
            "2022-11-27 21:11:41 RT @US_In_Reality: The U.S. Spends more on its military than the rest of the top 10 highest spending countries combined!\n",
            "#USA #homelessness…\n",
            "2022-11-27 21:11:37 Anyone interested buying my 4 Taylor Swift Floor tickets for Sat,April 29th at the Mercedes-Benz Stadium, Atlanta,… https://t.co/HoENr324MF\n",
            "2022-11-27 21:11:30 RT @ChinasaNworu: #USA govt., as world police, should stop playing double standard on #Biafra issue. Stop pretending to be the world moral…\n",
            "2022-11-27 21:11:07 RT @ArmsAds: Nosler Varmageddon 308 Win\n",
            ".\n",
            ".\n",
            ".\n",
            ".\n",
            ".\n",
            "#armsads #pewpewlife #2a #survival #edc\n",
            "#tactical #freedom #rifle #rifles #usa #guns\n",
            "#gun…\n",
            "2022-11-27 21:11:01 Nosler Varmageddon 308 Win\n",
            ".\n",
            ".\n",
            ".\n",
            ".\n",
            ".\n",
            "#armsads #pewpewlife #2a #survival #edc\n",
            "#tactical #freedom #rifle #rifles #usa… https://t.co/H4e7k9swBk\n"
          ]
        }
      ]
    },
    {
      "cell_type": "code",
      "source": [
        "df =  pd.DataFrame(\n",
        "    {'created_at': created_at,\n",
        "     'tweet': text\n",
        "    })\n",
        "df"
      ],
      "metadata": {
        "colab": {
          "base_uri": "https://localhost:8080/",
          "height": 363
        },
        "id": "CuObzDTU74f-",
        "outputId": "9d4944f9-07e6-4183-8a81-51fb2c4ae498"
      },
      "execution_count": 7,
      "outputs": [
        {
          "output_type": "execute_result",
          "data": {
            "text/plain": [
              "           created_at                                              tweet\n",
              "0 2022-11-27 21:12:42  RT @DiagolonMonkey: Interesting case has made ...\n",
              "1 2022-11-27 21:12:29  @IvankaTrump Nothing says American patriotism ...\n",
              "2 2022-11-27 21:12:27  RT @theEverEarn: 💥#USA vs England was a draw, ...\n",
              "3 2022-11-27 21:12:21  RT @Heatherknows2: @reddogsusie #Tennessee #US...\n",
              "4 2022-11-27 21:12:09  RT @UsColour: Joni Mitchell Classic T-Shirt\\n❤...\n",
              "5 2022-11-27 21:11:41  RT @US_In_Reality: The U.S. Spends more on its...\n",
              "6 2022-11-27 21:11:37  Anyone interested buying my 4 Taylor Swift Flo...\n",
              "7 2022-11-27 21:11:30  RT @ChinasaNworu: #USA govt., as world police,...\n",
              "8 2022-11-27 21:11:07  RT @ArmsAds: Nosler Varmageddon 308 Win\\n.\\n.\\...\n",
              "9 2022-11-27 21:11:01  Nosler Varmageddon 308 Win\\n.\\n.\\n.\\n.\\n.\\n#ar..."
            ],
            "text/html": [
              "\n",
              "  <div id=\"df-1fe04255-7890-4511-a59d-9ae92330405e\">\n",
              "    <div class=\"colab-df-container\">\n",
              "      <div>\n",
              "<style scoped>\n",
              "    .dataframe tbody tr th:only-of-type {\n",
              "        vertical-align: middle;\n",
              "    }\n",
              "\n",
              "    .dataframe tbody tr th {\n",
              "        vertical-align: top;\n",
              "    }\n",
              "\n",
              "    .dataframe thead th {\n",
              "        text-align: right;\n",
              "    }\n",
              "</style>\n",
              "<table border=\"1\" class=\"dataframe\">\n",
              "  <thead>\n",
              "    <tr style=\"text-align: right;\">\n",
              "      <th></th>\n",
              "      <th>created_at</th>\n",
              "      <th>tweet</th>\n",
              "    </tr>\n",
              "  </thead>\n",
              "  <tbody>\n",
              "    <tr>\n",
              "      <th>0</th>\n",
              "      <td>2022-11-27 21:12:42</td>\n",
              "      <td>RT @DiagolonMonkey: Interesting case has made ...</td>\n",
              "    </tr>\n",
              "    <tr>\n",
              "      <th>1</th>\n",
              "      <td>2022-11-27 21:12:29</td>\n",
              "      <td>@IvankaTrump Nothing says American patriotism ...</td>\n",
              "    </tr>\n",
              "    <tr>\n",
              "      <th>2</th>\n",
              "      <td>2022-11-27 21:12:27</td>\n",
              "      <td>RT @theEverEarn: 💥#USA vs England was a draw, ...</td>\n",
              "    </tr>\n",
              "    <tr>\n",
              "      <th>3</th>\n",
              "      <td>2022-11-27 21:12:21</td>\n",
              "      <td>RT @Heatherknows2: @reddogsusie #Tennessee #US...</td>\n",
              "    </tr>\n",
              "    <tr>\n",
              "      <th>4</th>\n",
              "      <td>2022-11-27 21:12:09</td>\n",
              "      <td>RT @UsColour: Joni Mitchell Classic T-Shirt\\n❤...</td>\n",
              "    </tr>\n",
              "    <tr>\n",
              "      <th>5</th>\n",
              "      <td>2022-11-27 21:11:41</td>\n",
              "      <td>RT @US_In_Reality: The U.S. Spends more on its...</td>\n",
              "    </tr>\n",
              "    <tr>\n",
              "      <th>6</th>\n",
              "      <td>2022-11-27 21:11:37</td>\n",
              "      <td>Anyone interested buying my 4 Taylor Swift Flo...</td>\n",
              "    </tr>\n",
              "    <tr>\n",
              "      <th>7</th>\n",
              "      <td>2022-11-27 21:11:30</td>\n",
              "      <td>RT @ChinasaNworu: #USA govt., as world police,...</td>\n",
              "    </tr>\n",
              "    <tr>\n",
              "      <th>8</th>\n",
              "      <td>2022-11-27 21:11:07</td>\n",
              "      <td>RT @ArmsAds: Nosler Varmageddon 308 Win\\n.\\n.\\...</td>\n",
              "    </tr>\n",
              "    <tr>\n",
              "      <th>9</th>\n",
              "      <td>2022-11-27 21:11:01</td>\n",
              "      <td>Nosler Varmageddon 308 Win\\n.\\n.\\n.\\n.\\n.\\n#ar...</td>\n",
              "    </tr>\n",
              "  </tbody>\n",
              "</table>\n",
              "</div>\n",
              "      <button class=\"colab-df-convert\" onclick=\"convertToInteractive('df-1fe04255-7890-4511-a59d-9ae92330405e')\"\n",
              "              title=\"Convert this dataframe to an interactive table.\"\n",
              "              style=\"display:none;\">\n",
              "        \n",
              "  <svg xmlns=\"http://www.w3.org/2000/svg\" height=\"24px\"viewBox=\"0 0 24 24\"\n",
              "       width=\"24px\">\n",
              "    <path d=\"M0 0h24v24H0V0z\" fill=\"none\"/>\n",
              "    <path d=\"M18.56 5.44l.94 2.06.94-2.06 2.06-.94-2.06-.94-.94-2.06-.94 2.06-2.06.94zm-11 1L8.5 8.5l.94-2.06 2.06-.94-2.06-.94L8.5 2.5l-.94 2.06-2.06.94zm10 10l.94 2.06.94-2.06 2.06-.94-2.06-.94-.94-2.06-.94 2.06-2.06.94z\"/><path d=\"M17.41 7.96l-1.37-1.37c-.4-.4-.92-.59-1.43-.59-.52 0-1.04.2-1.43.59L10.3 9.45l-7.72 7.72c-.78.78-.78 2.05 0 2.83L4 21.41c.39.39.9.59 1.41.59.51 0 1.02-.2 1.41-.59l7.78-7.78 2.81-2.81c.8-.78.8-2.07 0-2.86zM5.41 20L4 18.59l7.72-7.72 1.47 1.35L5.41 20z\"/>\n",
              "  </svg>\n",
              "      </button>\n",
              "      \n",
              "  <style>\n",
              "    .colab-df-container {\n",
              "      display:flex;\n",
              "      flex-wrap:wrap;\n",
              "      gap: 12px;\n",
              "    }\n",
              "\n",
              "    .colab-df-convert {\n",
              "      background-color: #E8F0FE;\n",
              "      border: none;\n",
              "      border-radius: 50%;\n",
              "      cursor: pointer;\n",
              "      display: none;\n",
              "      fill: #1967D2;\n",
              "      height: 32px;\n",
              "      padding: 0 0 0 0;\n",
              "      width: 32px;\n",
              "    }\n",
              "\n",
              "    .colab-df-convert:hover {\n",
              "      background-color: #E2EBFA;\n",
              "      box-shadow: 0px 1px 2px rgba(60, 64, 67, 0.3), 0px 1px 3px 1px rgba(60, 64, 67, 0.15);\n",
              "      fill: #174EA6;\n",
              "    }\n",
              "\n",
              "    [theme=dark] .colab-df-convert {\n",
              "      background-color: #3B4455;\n",
              "      fill: #D2E3FC;\n",
              "    }\n",
              "\n",
              "    [theme=dark] .colab-df-convert:hover {\n",
              "      background-color: #434B5C;\n",
              "      box-shadow: 0px 1px 3px 1px rgba(0, 0, 0, 0.15);\n",
              "      filter: drop-shadow(0px 1px 2px rgba(0, 0, 0, 0.3));\n",
              "      fill: #FFFFFF;\n",
              "    }\n",
              "  </style>\n",
              "\n",
              "      <script>\n",
              "        const buttonEl =\n",
              "          document.querySelector('#df-1fe04255-7890-4511-a59d-9ae92330405e button.colab-df-convert');\n",
              "        buttonEl.style.display =\n",
              "          google.colab.kernel.accessAllowed ? 'block' : 'none';\n",
              "\n",
              "        async function convertToInteractive(key) {\n",
              "          const element = document.querySelector('#df-1fe04255-7890-4511-a59d-9ae92330405e');\n",
              "          const dataTable =\n",
              "            await google.colab.kernel.invokeFunction('convertToInteractive',\n",
              "                                                     [key], {});\n",
              "          if (!dataTable) return;\n",
              "\n",
              "          const docLinkHtml = 'Like what you see? Visit the ' +\n",
              "            '<a target=\"_blank\" href=https://colab.research.google.com/notebooks/data_table.ipynb>data table notebook</a>'\n",
              "            + ' to learn more about interactive tables.';\n",
              "          element.innerHTML = '';\n",
              "          dataTable['output_type'] = 'display_data';\n",
              "          await google.colab.output.renderOutput(dataTable, element);\n",
              "          const docLink = document.createElement('div');\n",
              "          docLink.innerHTML = docLinkHtml;\n",
              "          element.appendChild(docLink);\n",
              "        }\n",
              "      </script>\n",
              "    </div>\n",
              "  </div>\n",
              "  "
            ]
          },
          "metadata": {},
          "execution_count": 7
        }
      ]
    },
    {
      "cell_type": "code",
      "source": [
        "df.to_csv('uintedstates.csv') \n",
        "print('saved to file') \n"
      ],
      "metadata": {
        "colab": {
          "base_uri": "https://localhost:8080/"
        },
        "id": "Rzr01_1g79vg",
        "outputId": "4387583c-6142-4168-cf58-a0ab45f280cb"
      },
      "execution_count": 8,
      "outputs": [
        {
          "output_type": "stream",
          "name": "stdout",
          "text": [
            "saved to file\n"
          ]
        }
      ]
    },
    {
      "cell_type": "code",
      "source": [],
      "metadata": {
        "id": "HkCw1BR58UYc"
      },
      "execution_count": null,
      "outputs": []
    }
  ]
}