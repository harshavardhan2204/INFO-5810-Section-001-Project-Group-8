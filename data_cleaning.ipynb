{
  "nbformat": 4,
  "nbformat_minor": 0,
  "metadata": {
    "colab": {
      "provenance": []
    },
    "kernelspec": {
      "name": "python3",
      "display_name": "Python 3"
    },
    "language_info": {
      "name": "python"
    }
  },
  "cells": [
    {
      "cell_type": "code",
      "execution_count": 1,
      "metadata": {
        "colab": {
          "base_uri": "https://localhost:8080/"
        },
        "id": "9YR6lz499AWB",
        "outputId": "71c9901e-f072-4d2f-c0c1-e84ac4910954"
      },
      "outputs": [
        {
          "output_type": "stream",
          "name": "stderr",
          "text": [
            "[nltk_data] Downloading package stopwords to /root/nltk_data...\n",
            "[nltk_data]   Unzipping corpora/stopwords.zip.\n"
          ]
        }
      ],
      "source": [
        "import pandas as pd\n",
        "import nltk\n",
        "nltk.download('stopwords')\n",
        "import re\n",
        "from nltk.corpus import stopwords"
      ]
    },
    {
      "cell_type": "code",
      "source": [
        "df=pd.read_csv(\"uintedstates.csv\")\n",
        "df"
      ],
      "metadata": {
        "colab": {
          "base_uri": "https://localhost:8080/",
          "height": 363
        },
        "id": "bmEIDSc99Vs9",
        "outputId": "076bb59e-8fbe-48de-d43f-4140f1bd5361"
      },
      "execution_count": 4,
      "outputs": [
        {
          "output_type": "execute_result",
          "data": {
            "text/plain": [
              "   Unnamed: 0           created_at  \\\n",
              "0           0  2022-11-27 21:12:42   \n",
              "1           1  2022-11-27 21:12:29   \n",
              "2           2  2022-11-27 21:12:27   \n",
              "3           3  2022-11-27 21:12:21   \n",
              "4           4  2022-11-27 21:12:09   \n",
              "5           5  2022-11-27 21:11:41   \n",
              "6           6  2022-11-27 21:11:37   \n",
              "7           7  2022-11-27 21:11:30   \n",
              "8           8  2022-11-27 21:11:07   \n",
              "9           9  2022-11-27 21:11:01   \n",
              "\n",
              "                                               tweet  \n",
              "0  RT @DiagolonMonkey: Interesting case has made ...  \n",
              "1  @IvankaTrump Nothing says American patriotism ...  \n",
              "2  RT @theEverEarn: 💥#USA vs England was a draw, ...  \n",
              "3  RT @Heatherknows2: @reddogsusie #Tennessee #US...  \n",
              "4  RT @UsColour: Joni Mitchell Classic T-Shirt\\n❤...  \n",
              "5  RT @US_In_Reality: The U.S. Spends more on its...  \n",
              "6  Anyone interested buying my 4 Taylor Swift Flo...  \n",
              "7  RT @ChinasaNworu: #USA govt., as world police,...  \n",
              "8  RT @ArmsAds: Nosler Varmageddon 308 Win\\n.\\n.\\...  \n",
              "9  Nosler Varmageddon 308 Win\\n.\\n.\\n.\\n.\\n.\\n#ar...  "
            ],
            "text/html": [
              "\n",
              "  <div id=\"df-3cecd99a-7db8-4688-89d7-78ddabfead44\">\n",
              "    <div class=\"colab-df-container\">\n",
              "      <div>\n",
              "<style scoped>\n",
              "    .dataframe tbody tr th:only-of-type {\n",
              "        vertical-align: middle;\n",
              "    }\n",
              "\n",
              "    .dataframe tbody tr th {\n",
              "        vertical-align: top;\n",
              "    }\n",
              "\n",
              "    .dataframe thead th {\n",
              "        text-align: right;\n",
              "    }\n",
              "</style>\n",
              "<table border=\"1\" class=\"dataframe\">\n",
              "  <thead>\n",
              "    <tr style=\"text-align: right;\">\n",
              "      <th></th>\n",
              "      <th>Unnamed: 0</th>\n",
              "      <th>created_at</th>\n",
              "      <th>tweet</th>\n",
              "    </tr>\n",
              "  </thead>\n",
              "  <tbody>\n",
              "    <tr>\n",
              "      <th>0</th>\n",
              "      <td>0</td>\n",
              "      <td>2022-11-27 21:12:42</td>\n",
              "      <td>RT @DiagolonMonkey: Interesting case has made ...</td>\n",
              "    </tr>\n",
              "    <tr>\n",
              "      <th>1</th>\n",
              "      <td>1</td>\n",
              "      <td>2022-11-27 21:12:29</td>\n",
              "      <td>@IvankaTrump Nothing says American patriotism ...</td>\n",
              "    </tr>\n",
              "    <tr>\n",
              "      <th>2</th>\n",
              "      <td>2</td>\n",
              "      <td>2022-11-27 21:12:27</td>\n",
              "      <td>RT @theEverEarn: 💥#USA vs England was a draw, ...</td>\n",
              "    </tr>\n",
              "    <tr>\n",
              "      <th>3</th>\n",
              "      <td>3</td>\n",
              "      <td>2022-11-27 21:12:21</td>\n",
              "      <td>RT @Heatherknows2: @reddogsusie #Tennessee #US...</td>\n",
              "    </tr>\n",
              "    <tr>\n",
              "      <th>4</th>\n",
              "      <td>4</td>\n",
              "      <td>2022-11-27 21:12:09</td>\n",
              "      <td>RT @UsColour: Joni Mitchell Classic T-Shirt\\n❤...</td>\n",
              "    </tr>\n",
              "    <tr>\n",
              "      <th>5</th>\n",
              "      <td>5</td>\n",
              "      <td>2022-11-27 21:11:41</td>\n",
              "      <td>RT @US_In_Reality: The U.S. Spends more on its...</td>\n",
              "    </tr>\n",
              "    <tr>\n",
              "      <th>6</th>\n",
              "      <td>6</td>\n",
              "      <td>2022-11-27 21:11:37</td>\n",
              "      <td>Anyone interested buying my 4 Taylor Swift Flo...</td>\n",
              "    </tr>\n",
              "    <tr>\n",
              "      <th>7</th>\n",
              "      <td>7</td>\n",
              "      <td>2022-11-27 21:11:30</td>\n",
              "      <td>RT @ChinasaNworu: #USA govt., as world police,...</td>\n",
              "    </tr>\n",
              "    <tr>\n",
              "      <th>8</th>\n",
              "      <td>8</td>\n",
              "      <td>2022-11-27 21:11:07</td>\n",
              "      <td>RT @ArmsAds: Nosler Varmageddon 308 Win\\n.\\n.\\...</td>\n",
              "    </tr>\n",
              "    <tr>\n",
              "      <th>9</th>\n",
              "      <td>9</td>\n",
              "      <td>2022-11-27 21:11:01</td>\n",
              "      <td>Nosler Varmageddon 308 Win\\n.\\n.\\n.\\n.\\n.\\n#ar...</td>\n",
              "    </tr>\n",
              "  </tbody>\n",
              "</table>\n",
              "</div>\n",
              "      <button class=\"colab-df-convert\" onclick=\"convertToInteractive('df-3cecd99a-7db8-4688-89d7-78ddabfead44')\"\n",
              "              title=\"Convert this dataframe to an interactive table.\"\n",
              "              style=\"display:none;\">\n",
              "        \n",
              "  <svg xmlns=\"http://www.w3.org/2000/svg\" height=\"24px\"viewBox=\"0 0 24 24\"\n",
              "       width=\"24px\">\n",
              "    <path d=\"M0 0h24v24H0V0z\" fill=\"none\"/>\n",
              "    <path d=\"M18.56 5.44l.94 2.06.94-2.06 2.06-.94-2.06-.94-.94-2.06-.94 2.06-2.06.94zm-11 1L8.5 8.5l.94-2.06 2.06-.94-2.06-.94L8.5 2.5l-.94 2.06-2.06.94zm10 10l.94 2.06.94-2.06 2.06-.94-2.06-.94-.94-2.06-.94 2.06-2.06.94z\"/><path d=\"M17.41 7.96l-1.37-1.37c-.4-.4-.92-.59-1.43-.59-.52 0-1.04.2-1.43.59L10.3 9.45l-7.72 7.72c-.78.78-.78 2.05 0 2.83L4 21.41c.39.39.9.59 1.41.59.51 0 1.02-.2 1.41-.59l7.78-7.78 2.81-2.81c.8-.78.8-2.07 0-2.86zM5.41 20L4 18.59l7.72-7.72 1.47 1.35L5.41 20z\"/>\n",
              "  </svg>\n",
              "      </button>\n",
              "      \n",
              "  <style>\n",
              "    .colab-df-container {\n",
              "      display:flex;\n",
              "      flex-wrap:wrap;\n",
              "      gap: 12px;\n",
              "    }\n",
              "\n",
              "    .colab-df-convert {\n",
              "      background-color: #E8F0FE;\n",
              "      border: none;\n",
              "      border-radius: 50%;\n",
              "      cursor: pointer;\n",
              "      display: none;\n",
              "      fill: #1967D2;\n",
              "      height: 32px;\n",
              "      padding: 0 0 0 0;\n",
              "      width: 32px;\n",
              "    }\n",
              "\n",
              "    .colab-df-convert:hover {\n",
              "      background-color: #E2EBFA;\n",
              "      box-shadow: 0px 1px 2px rgba(60, 64, 67, 0.3), 0px 1px 3px 1px rgba(60, 64, 67, 0.15);\n",
              "      fill: #174EA6;\n",
              "    }\n",
              "\n",
              "    [theme=dark] .colab-df-convert {\n",
              "      background-color: #3B4455;\n",
              "      fill: #D2E3FC;\n",
              "    }\n",
              "\n",
              "    [theme=dark] .colab-df-convert:hover {\n",
              "      background-color: #434B5C;\n",
              "      box-shadow: 0px 1px 3px 1px rgba(0, 0, 0, 0.15);\n",
              "      filter: drop-shadow(0px 1px 2px rgba(0, 0, 0, 0.3));\n",
              "      fill: #FFFFFF;\n",
              "    }\n",
              "  </style>\n",
              "\n",
              "      <script>\n",
              "        const buttonEl =\n",
              "          document.querySelector('#df-3cecd99a-7db8-4688-89d7-78ddabfead44 button.colab-df-convert');\n",
              "        buttonEl.style.display =\n",
              "          google.colab.kernel.accessAllowed ? 'block' : 'none';\n",
              "\n",
              "        async function convertToInteractive(key) {\n",
              "          const element = document.querySelector('#df-3cecd99a-7db8-4688-89d7-78ddabfead44');\n",
              "          const dataTable =\n",
              "            await google.colab.kernel.invokeFunction('convertToInteractive',\n",
              "                                                     [key], {});\n",
              "          if (!dataTable) return;\n",
              "\n",
              "          const docLinkHtml = 'Like what you see? Visit the ' +\n",
              "            '<a target=\"_blank\" href=https://colab.research.google.com/notebooks/data_table.ipynb>data table notebook</a>'\n",
              "            + ' to learn more about interactive tables.';\n",
              "          element.innerHTML = '';\n",
              "          dataTable['output_type'] = 'display_data';\n",
              "          await google.colab.output.renderOutput(dataTable, element);\n",
              "          const docLink = document.createElement('div');\n",
              "          docLink.innerHTML = docLinkHtml;\n",
              "          element.appendChild(docLink);\n",
              "        }\n",
              "      </script>\n",
              "    </div>\n",
              "  </div>\n",
              "  "
            ]
          },
          "metadata": {},
          "execution_count": 4
        }
      ]
    },
    {
      "cell_type": "code",
      "source": [
        "X1=df['tweet']\n",
        "\n",
        "\n",
        "\n",
        "# 1. Remove non-letters        \n",
        "X1 = X1.apply(lambda x: (re.sub(\"[^a-zA-Z]\", \" \", str(x)) ))\n",
        "#X1= X1.apply(lambda x : re.sub(r'[^\\w\\s]', '',x))\n",
        "\n",
        "\n",
        "\n",
        "# 2. Convert to lower case, split into individual words\n",
        "X1= X1.apply(lambda x : str(x).lower())\n",
        "words=X1.apply(lambda x: x.split())   \n",
        "\n",
        "\n",
        "\n",
        "#3. create stopwords using NLP\n",
        "stops = set(stopwords.words(\"english\"))\n",
        "\n",
        "\n",
        "\n",
        "# 4. removed stop words from the dataset\n",
        "meaningful_words = pd.Series(words).apply(lambda x :  [item for item in x if item not in stops])\n",
        "meaningful_words=meaningful_words.str.join(\" \")"
      ],
      "metadata": {
        "id": "8zFfxIxz9qql"
      },
      "execution_count": 5,
      "outputs": []
    },
    {
      "cell_type": "code",
      "source": [
        "meaningful_words"
      ],
      "metadata": {
        "colab": {
          "base_uri": "https://localhost:8080/"
        },
        "id": "_easGDew92qp",
        "outputId": "4fe1fecf-7b2f-4b3f-e97e-5f3f4c80031a"
      },
      "execution_count": 6,
      "outputs": [
        {
          "output_type": "execute_result",
          "data": {
            "text/plain": [
              "0    rt diagolonmonkey interesting case made usa su...\n",
              "1    ivankatrump nothing says american patriotism c...\n",
              "2    rt theeverearn usa vs england draw everearn pa...\n",
              "3    rt heatherknows reddogsusie tennessee usa moon...\n",
              "4    rt uscolour joni mitchell classic shirt design...\n",
              "5    rt us reality u spends military rest top highe...\n",
              "6    anyone interested buying taylor swift floor ti...\n",
              "7    rt chinasanworu usa govt world police stop pla...\n",
              "8    rt armsads nosler varmageddon win armsads pewp...\n",
              "9    nosler varmageddon win armsads pewpewlife surv...\n",
              "Name: tweet, dtype: object"
            ]
          },
          "metadata": {},
          "execution_count": 6
        }
      ]
    },
    {
      "cell_type": "code",
      "source": [
        "cleaned_data = pd.DataFrame(meaningful_words)\n",
        "cleaned_data.to_csv(\"cleandata.csv\")\n",
        "print(\"Data cleaned and saved to csv\")"
      ],
      "metadata": {
        "colab": {
          "base_uri": "https://localhost:8080/"
        },
        "id": "PWqOTUg996Wy",
        "outputId": "960aa24d-4c2c-4f7c-c643-2b6e0cb31c97"
      },
      "execution_count": 7,
      "outputs": [
        {
          "output_type": "stream",
          "name": "stdout",
          "text": [
            "Data cleaned and saved to csv\n"
          ]
        }
      ]
    },
    {
      "cell_type": "code",
      "source": [],
      "metadata": {
        "id": "8SN_6J4Z-QJN"
      },
      "execution_count": null,
      "outputs": []
    }
  ]
}